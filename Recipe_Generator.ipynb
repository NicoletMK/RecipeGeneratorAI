{
 "cells": [
  {
   "cell_type": "code",
   "execution_count": 2,
   "metadata": {},
   "outputs": [],
   "source": [
    "# Recipe Generator with .env\n",
    "from openai import OpenAI\n",
    "from IPython.display import display, Markdown\n",
    "from ipywidgets import Button, Output\n",
    "import os\n",
    "from dotenv import load_dotenv\n",
    "\n",
    "# Load environment variables\n",
    "load_dotenv()  # Loads from .env file in current directory\n",
    "\n",
    "# Initialize client\n",
    "client = OpenAI(api_key=os.getenv(\"OPENAI_API_KEY\"))\n",
    "\n"
   ]
  },
  {
   "cell_type": "code",
   "execution_count": 3,
   "metadata": {},
   "outputs": [
    {
     "data": {
      "application/vnd.jupyter.widget-view+json": {
       "model_id": "fcba66ad912e40068bfddd7da78099ea",
       "version_major": 2,
       "version_minor": 0
      },
      "text/plain": [
       "Button(button_style='success', description='🍳 Generate Recipe', style=ButtonStyle())"
      ]
     },
     "metadata": {},
     "output_type": "display_data"
    },
    {
     "data": {
      "application/vnd.jupyter.widget-view+json": {
       "model_id": "4fdb2cf3583e4479bbca969b2fe13de8",
       "version_major": 2,
       "version_minor": 0
      },
      "text/plain": [
       "Output()"
      ]
     },
     "metadata": {},
     "output_type": "display_data"
    }
   ],
   "source": [
    "# Create widgets\n",
    "output = Output()\n",
    "btn = Button(description=\"🍳 Generate Recipe\", button_style='success')\n",
    "\n",
    "def generate_recipe(_):\n",
    "    with output:\n",
    "        output.clear_output()\n",
    "        try:\n",
    "            response = client.chat.completions.create(\n",
    "                model=\"gpt-3.5-turbo\",\n",
    "                messages=[{\n",
    "                    \"role\": \"user\",\n",
    "                    \"content\": \"Create a quick 3-ingredient recipe with cooking instructions\"\n",
    "                }]\n",
    "            )\n",
    "            display(Markdown(f\"**Simple Recipe:**\\n{response.choices[0].message.content}\"))\n",
    "        except Exception as e:\n",
    "            display(Markdown(f\"⚠️ Error: {str(e)}\"))\n",
    "\n",
    "btn.on_click(generate_recipe)\n",
    "display(btn, output)"
   ]
  }
 ],
 "metadata": {
  "kernelspec": {
   "display_name": "myenv",
   "language": "python",
   "name": "python3"
  },
  "language_info": {
   "codemirror_mode": {
    "name": "ipython",
    "version": 3
   },
   "file_extension": ".py",
   "mimetype": "text/x-python",
   "name": "python",
   "nbconvert_exporter": "python",
   "pygments_lexer": "ipython3",
   "version": "3.9.17"
  }
 },
 "nbformat": 4,
 "nbformat_minor": 2
}
